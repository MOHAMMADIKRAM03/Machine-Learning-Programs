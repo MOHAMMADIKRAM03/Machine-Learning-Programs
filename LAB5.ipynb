{
 "cells": [
  {
   "cell_type": "code",
   "execution_count": 3,
   "id": "2fdad0ce-209e-4703-b006-4676abe6b2a3",
   "metadata": {},
   "outputs": [
    {
     "name": "stdout",
     "output_type": "stream",
     "text": [
      "Prediction of the alarm: 0.5577689243027888\n"
     ]
    }
   ],
   "source": [
    "#Baysean tree\n",
    "import numpy as np\n",
    "\n",
    "# Given probabilities\n",
    "P_B = 0.001\n",
    "P_not_B = 1 - P_B\n",
    "\n",
    "P_E = 0.002\n",
    "P_not_E = 1 - P_E\n",
    "\n",
    "P_A_given_B_E = 0.95\n",
    "P_A_given_B_not_E = 0.94\n",
    "P_A_given_not_B_E = 0.29\n",
    "P_A_given_not_B_not_E = 0.001\n",
    "\n",
    "P_J_given_A = 0.90\n",
    "P_J_given_not_A = 0.05\n",
    "\n",
    "P_M_given_A = 0.70\n",
    "P_M_given_not_A = 0.01\n",
    "\n",
    "# Calculate P(A | ~B, ~E, J, M)\n",
    "P_A_true = P_A_given_not_B_not_E\n",
    "P_A_false = 1 - P_A_true\n",
    "\n",
    "# Evidence\n",
    "P_J_and_M_given_A_true = P_J_given_A * P_M_given_A\n",
    "P_J_and_M_given_A_false = P_J_given_not_A * P_M_given_not_A\n",
    "\n",
    "# Using Bayes' Theorem\n",
    "numerator = P_J_and_M_given_A_true * P_A_true\n",
    "denominator = numerator + (P_J_and_M_given_A_false * P_A_false)\n",
    "\n",
    "# Posterior Probability\n",
    "P_A_given_evidence = numerator / denominator\n",
    "\n",
    "print(\"Prediction of the alarm:\", P_A_given_evidence)\n"
   ]
  }
 ],
 "metadata": {
  "kernelspec": {
   "display_name": "Python 3 (ipykernel)",
   "language": "python",
   "name": "python3"
  },
  "language_info": {
   "codemirror_mode": {
    "name": "ipython",
    "version": 3
   },
   "file_extension": ".py",
   "mimetype": "text/x-python",
   "name": "python",
   "nbconvert_exporter": "python",
   "pygments_lexer": "ipython3",
   "version": "3.12.4"
  }
 },
 "nbformat": 4,
 "nbformat_minor": 5
}
